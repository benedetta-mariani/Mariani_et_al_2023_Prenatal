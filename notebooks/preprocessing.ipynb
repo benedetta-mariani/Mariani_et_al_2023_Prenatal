{
 "cells": [
  {
   "cell_type": "code",
   "execution_count": null,
   "id": "2e766be8",
   "metadata": {
    "ExecuteTime": {
     "end_time": "2023-05-15T09:12:26.678746Z",
     "start_time": "2023-05-15T09:12:22.614242Z"
    }
   },
   "outputs": [],
   "source": [
    "import numpy as np\n",
    "import matplotlib.pyplot as plt\n",
    "import matplotlib.gridspec as gridspec\n",
    "from scipy.io import loadmat\n",
    "from scipy.signal import welch\n",
    "\n",
    "import pandas as pd\n",
    "\n",
    "import mne\n",
    "from autoreject import AutoReject, Ransac\n",
    "\n",
    "plt.rcParams.update({'font.family': 'serif'})"
   ]
  },
  {
   "cell_type": "code",
   "execution_count": null,
   "id": "896564ea",
   "metadata": {
    "ExecuteTime": {
     "end_time": "2023-05-15T09:12:26.699040Z",
     "start_time": "2023-05-15T09:12:26.693719Z"
    }
   },
   "outputs": [],
   "source": [
    "# Useful parameters\n",
    "ch_names = ['F7', 'F3', 'Fz', 'F4', 'F8', 'T7', 'C3', 'Cz', 'C4', 'T8']\n",
    "ch_names = np.array(ch_names)\n",
    "\n",
    "folder = 'NewbornEEGData/'\n",
    "subjs = [5,6,9,11,12,13,14,16,17,18,19,20,21,22,25,27,28,29,30,31,33,34,35,37,39,40,41,45,46,47,49,52,53,56,57,58,60,62,63,64,65,66,67,68,69,70,71]"
   ]
  },
  {
   "cell_type": "code",
   "execution_count": null,
   "id": "1ea1621a",
   "metadata": {
    "ExecuteTime": {
     "end_time": "2023-05-15T09:12:26.861360Z",
     "start_time": "2023-05-15T09:12:26.708653Z"
    }
   },
   "outputs": [],
   "source": [
    "# Montage for plotting\n",
    "mont1020 = mne.channels.make_standard_montage('standard_1020')\n",
    "ind = [i for (i, channel) in enumerate(mont1020.ch_names) if channel in ch_names]\n",
    "mont1020_new = mont1020.copy()\n",
    "# Keep only the desired channels\n",
    "mont1020_new.ch_names = [mont1020.ch_names[x] for x in ind]\n",
    "kept_channel_info = [mont1020.dig[x+3] for x in ind]\n",
    "# Keep the first three rows as they are the fiducial points information\n",
    "mont1020_new.dig = mont1020.dig[0:3]+kept_channel_info"
   ]
  },
  {
   "cell_type": "code",
   "execution_count": null,
   "id": "cbbab98b",
   "metadata": {
    "ExecuteTime": {
     "end_time": "2023-05-15T09:12:27.009120Z",
     "start_time": "2023-05-15T09:12:26.875009Z"
    }
   },
   "outputs": [],
   "source": [
    "subj = 13\n",
    "\n",
    "s1 = loadmat(f'NewbornEEGData/BB{subj}_Filtered (1-100)/Silence (500)/BB{subj} silence1 (continuous).mat')\n",
    "s2 = loadmat(f'NewbornEEGData/BB{subj}_Filtered (1-100)/Silence (500)/BB{subj} silence2 (continuous).mat')"
   ]
  },
  {
   "cell_type": "code",
   "execution_count": null,
   "id": "39f485dd",
   "metadata": {
    "ExecuteTime": {
     "end_time": "2023-05-15T09:12:27.026451Z",
     "start_time": "2023-05-15T09:12:27.022039Z"
    }
   },
   "outputs": [],
   "source": [
    "sfreq = s1['eegfs'][0][0]\n",
    "\n",
    "info = mne.create_info(ch_names = list(ch_names),\n",
    "                       ch_types = 'eeg',\n",
    "                       sfreq = sfreq)"
   ]
  },
  {
   "cell_type": "code",
   "execution_count": null,
   "id": "fe21baa0",
   "metadata": {
    "ExecuteTime": {
     "end_time": "2023-05-15T09:12:27.048105Z",
     "start_time": "2023-05-15T09:12:27.039023Z"
    }
   },
   "outputs": [],
   "source": [
    "def plot_data(data, ch_names, title, fmin=0, fmax=100):\n",
    "    '''\n",
    "    Function for plotting the data\n",
    "\n",
    "    Parameters\n",
    "    ----------\n",
    "    data : Data to plot.\n",
    "    ch_names : List of channel names.\n",
    "    title : Title of the plot.\n",
    "    fmin : Minimum frequency to plot.\n",
    "    fmax : Maximum frequency to plot.\n",
    "    '''\n",
    "    \n",
    "    times = np.arange(data.shape[1]) / sfreq\n",
    "    \n",
    "    fig = plt.figure(figsize=(12,8))\n",
    "    gs = gridspec.GridSpec(ncols=2, nrows=2, figure=fig)\n",
    "\n",
    "    ax1 = fig.add_subplot(gs[1, :-1])\n",
    "    for tmp in data:\n",
    "        ax1.plot(times, tmp)\n",
    "    ax1.plot(times, data.mean(axis=0), c='k', label='mean')\n",
    "    ax1.set_xlabel('time [ms]')\n",
    "    ax1.set_ylabel('mV')\n",
    "    ax1.set_xlim(0,times[-1])\n",
    "    plt.legend()\n",
    "    \n",
    "    ax2 = fig.add_subplot(gs[0, :])\n",
    "    for i, tmp in enumerate(data):\n",
    "        ax2.plot(times, tmp+np.max(data)*i)\n",
    "    ax2.set_xlim(0,times[-1])\n",
    "    ax2.set_xlabel('time [ms]')\n",
    "    ax2.set_ylabel('mV')\n",
    "    ax2.set_yticks([np.max(data)*i for i in range(len(ch_names))])\n",
    "    ax2.set_yticklabels(ch_names)\n",
    "    ax2.set_title(title)\n",
    "    \n",
    "    ax3 = fig.add_subplot(gs[1:, -1])\n",
    "    info = mne.create_info(ch_names = list(ch_names), ch_types = 'eeg', sfreq = sfreq)\n",
    "    psds, freqs = mne.time_frequency.psd_array_welch(data/1e6, sfreq=sfreq, fmin=fmin, fmax=fmax, n_fft=2048, n_overlap=1024//2, verbose=False)\n",
    "    psds = np.log10(psds)\n",
    "    ax3.plot(freqs, psds.T)\n",
    "    ax3.plot(freqs, psds.mean(axis=0), c='black', label='mean')\n",
    "    ax3.set_xlim(freqs[0],freqs[-1])\n",
    "    plt.legend()\n",
    "    ax3.set_ylabel('Power spectrum')\n",
    "    \n",
    "    plt.tight_layout()\n",
    "    plt.show()"
   ]
  },
  {
   "cell_type": "code",
   "execution_count": null,
   "id": "5dd043a7",
   "metadata": {
    "ExecuteTime": {
     "end_time": "2023-05-15T09:17:00.983652Z",
     "start_time": "2023-05-15T09:17:00.969860Z"
    }
   },
   "outputs": [],
   "source": [
    "def find_bad_channels(data, MAX_PEAK=200, MAX_PEAK_SIGMA=15, MAX_DIST_PS=4.5e-3, OFFSET=30, fmin=1, fmax=100):\n",
    "    '''\n",
    "\tFind bad channels based on the maximum peak and the distance from the mean of the PSD.\n",
    "\tInputs:\n",
    "\t\tdata: data to be analyzed\n",
    "\t\tMAX_PEAK: maximum peak allowed (in uV)\n",
    "\t\tMAX_PEAK_SIGMA: maximum peak allowed (in number of standard deviations)\n",
    "\t\tMAX_DIST_PS: maximum distance from the mean of the PSD allowed\n",
    "\t\tOFFSET: time (in seconds) to be ignored at the beginning and at the end of the signal\n",
    "\t\tfmin: minimum frequency for the PSD\n",
    "\t\tfmax: maximum frequency for the PSD\n",
    "\t'''\n",
    "    \n",
    "    idx_down, idx_up = 0, data.shape[1]\n",
    "    ss = np.std(data)\n",
    "    \n",
    "    psds, freqs = mne.time_frequency.psd_array_welch(data/1e6, sfreq=sfreq, fmin=fmin, fmax=fmax, n_fft=2048, n_overlap=1024//2, verbose=False)\n",
    "    psds = np.log10(psds)\n",
    "    \n",
    "    dist = [((tmp-psds.mean(axis=0))**2).sum() for tmp in psds]\n",
    "    dist = np.array(dist) / (psds**2).sum(axis=1) * 1e2\n",
    "    #print(dist)\n",
    "    \n",
    "    rej = []\n",
    "    for i, ch in enumerate(ch_names):\n",
    "        delta = np.abs(data[i]).max()\n",
    "    \n",
    "        str_rej = str()\n",
    "        if delta>MAX_PEAK or dist[i]>MAX_DIST_PS:\n",
    "            rej.append(ch)\n",
    "            str_rej = '-> rejected'\n",
    "            str_rej += ' ('\n",
    "            if delta>MAX_PEAK:\n",
    "                str_rej += ' peak'\n",
    "                # Store peaks timepoints\n",
    "                idx = np.where(np.abs(data[i])>MAX_PEAK)[0]\n",
    "            '''\n",
    "            if delta/ss>MAX_PEAK_SIGMA:\n",
    "                str_rej += ' sigma'\n",
    "            '''\n",
    "            if dist[i]>MAX_DIST_PS:\n",
    "                str_rej += ' ps'\n",
    "            str_rej += ')'\n",
    "            \n",
    "        print(f'* {ch}: max peak = {np.round(delta, 2)} mV ({np.round(delta/ss, 2)} std); dist ps = {np.round(dist[i],3)} '+str_rej)\n",
    "        \n",
    "        if delta>MAX_PEAK:\n",
    "            if np.max(idx)/sfreq<OFFSET:\n",
    "                idx_down = np.max([np.max(idx),idx_down])\n",
    "                print(f'[*] WARNING: Peak only in the initial part - time: {np.max(idx)/sfreq} s')\n",
    "            if np.min(idx)/sfreq>180-OFFSET:\n",
    "                idx_up = np.min([np.min(idx),idx_up])\n",
    "                print(f'[*] WARNING: Peak only in the last part - time: {np.min(idx)/sfreq} s')\n",
    "                \n",
    "    print('\\nBad channels:', rej, '\\n')\n",
    "    \n",
    "    return rej, idx_down, idx_up"
   ]
  },
  {
   "cell_type": "code",
   "execution_count": null,
   "id": "ae5c226f",
   "metadata": {
    "ExecuteTime": {
     "end_time": "2023-05-15T09:17:01.899886Z",
     "start_time": "2023-05-15T09:17:01.886460Z"
    }
   },
   "outputs": [],
   "source": [
    "def preprocess(data, subj, silence, fmin=1, fmax=100):\n",
    "    '''\n",
    "    Preprocess the whole dataset.\n",
    "\n",
    "    Inputs:\n",
    "        data: data to be analyzed\n",
    "        subj: subject number\n",
    "        silence: boolean to plot or not the results\n",
    "        fmin: minimum frequency for the PSD\n",
    "        fmax: maximum frequency for the PSD\n",
    "    '''\n",
    "\n",
    "    print(f'[*] SUBJ {subj} - silence {silence}')\n",
    "    bad_chs = []\n",
    "    \n",
    "    ### Plot original data\n",
    "    plot_data(data, ch_names, f'Original data')\n",
    "        \n",
    "    ### Reject channels\n",
    "    print('### Rejection bad channels - our method...')\n",
    "    rej, idx_down, idx_up = find_bad_channels(data, fmin=fmin, fmax=fmax)\n",
    "    \n",
    "    ### Reject channels with Ransac\n",
    "    print('### Rejection bad channels - RANSAC')\n",
    "    epochs = mne.EpochsArray(np.expand_dims(data, axis=0)/1e6, info)\n",
    "    epochs.set_montage(mont1020_new)\n",
    "    ransac = Ransac()\n",
    "    ransac.fit(epochs)\n",
    "    print('Bad channels:', ransac.bad_chs_)\n",
    "    \n",
    "    if idx_down>0 or idx_up<data.shape[1]:\n",
    "        if idx_down>0:\n",
    "            idx_down +=1\n",
    "        if idx_up<data.shape[1]:\n",
    "            idx_up -=1\n",
    "            \n",
    "        print('\\n### REMOVE PART OF THE DATA')\n",
    "        print('tmin:', idx_down/sfreq, ', tmax:', idx_up/sfreq, '\\n')\n",
    "        data = data[:,idx_down:idx_up]\n",
    "    \n",
    "        ### Reject channels\n",
    "        print('### Rejection bad channels - our method...')\n",
    "        rej, idx_down, idx_up = find_bad_channels(data, fmin=fmin, fmax=fmax)\n",
    "    \n",
    "        ### Reject channels with Ransac\n",
    "        print('### Rejection bad channels - RANSAC')\n",
    "        epochs = mne.EpochsArray(np.expand_dims(data, axis=0)/1e6, info)\n",
    "        epochs.set_montage(mont1020_new)\n",
    "        ransac = Ransac()\n",
    "        ransac.fit(epochs)\n",
    "        print('Bad channels:', ransac.bad_chs_)\n",
    "    \n",
    "    ### Plot clean data\n",
    "    idx_to_keep = [i for i, ch in enumerate(ch_names) if ch not in rej]\n",
    "    if len(idx_to_keep)>0:\n",
    "        plot_data(data[idx_to_keep], ch_names[idx_to_keep], f'Cleaned data')\n",
    "    \n",
    "    ### Store results\n",
    "    bad_chs.append(rej)\n",
    "    bad_chs.append(ransac.bad_chs_)\n",
    "    \n",
    "    return bad_chs"
   ]
  },
  {
   "attachments": {},
   "cell_type": "markdown",
   "id": "3ad62d5e",
   "metadata": {},
   "source": [
    "## A couple of examples..."
   ]
  },
  {
   "cell_type": "code",
   "execution_count": null,
   "id": "a2410afd",
   "metadata": {
    "ExecuteTime": {
     "end_time": "2023-05-15T09:17:09.371754Z",
     "start_time": "2023-05-15T09:17:05.119122Z"
    },
    "scrolled": false
   },
   "outputs": [],
   "source": [
    "preprocess(s1['eeg_rest'].astype('float'), subj, 1)"
   ]
  },
  {
   "cell_type": "code",
   "execution_count": null,
   "id": "aaf99c0d",
   "metadata": {
    "ExecuteTime": {
     "end_time": "2023-03-16T09:41:28.548280Z",
     "start_time": "2023-03-16T09:41:23.293201Z"
    },
    "scrolled": false
   },
   "outputs": [],
   "source": [
    "preprocess(s2['eeg_rest'].astype('float'), subj, 2)"
   ]
  },
  {
   "attachments": {},
   "cell_type": "markdown",
   "id": "27bf73dc",
   "metadata": {},
   "source": [
    "## Preprocess the whole dataset"
   ]
  },
  {
   "cell_type": "code",
   "execution_count": null,
   "id": "7b628258",
   "metadata": {
    "ExecuteTime": {
     "end_time": "2022-11-23T13:41:58.727014Z",
     "start_time": "2022-11-23T13:36:15.302109Z"
    }
   },
   "outputs": [],
   "source": [
    "mine1, mine2 = [], []\n",
    "ran1, ran2 = [], []\n",
    "\n",
    "### Loop over subjects\n",
    "for i, subj in enumerate(subjs):\n",
    "    print(f'\\n\\n########## SUBJ {subj} ({i+1}/{len(subjs)})##########')\n",
    "    \n",
    "    ### Load data\n",
    "    s1 = loadmat(f'NewbornEEGData/BB{subj}_Filtered (1-100)/Silence (500)/BB{subj} silence1 (continuous).mat')\n",
    "    s2 = loadmat(f'NewbornEEGData/BB{subj}_Filtered (1-100)/Silence (500)/BB{subj} silence2 (continuous).mat')\n",
    "    \n",
    "    ### Silence 1\n",
    "    tmp = preprocess(s1['eeg_rest'].astype('float'), subj, 1)\n",
    "    mine1.append(tmp[0])\n",
    "    ran1.append(tmp[1])\n",
    "    \n",
    "    ### Silence 2\n",
    "    tmp = preprocess(s2['eeg_rest'].astype('float'), subj, 2)\n",
    "    mine2.append(tmp[0])\n",
    "    ran2.append(tmp[1])"
   ]
  },
  {
   "cell_type": "code",
   "execution_count": null,
   "id": "2606b027",
   "metadata": {
    "ExecuteTime": {
     "end_time": "2022-11-23T14:23:48.066803Z",
     "start_time": "2022-11-23T14:23:48.057928Z"
    }
   },
   "outputs": [],
   "source": [
    "rej_mine1 = [len(tmp) for tmp in mine1]\n",
    "rej_mine2 = [len(tmp) for tmp in mine2]\n",
    "\n",
    "rej_ran1 = [len(tmp) for tmp in ran1]\n",
    "rej_ran2 = [len(tmp) for tmp in ran2]\n",
    "\n",
    "df = pd.DataFrame(data=np.array([rej_mine1, rej_mine2, rej_ran1, rej_ran2]).T, index=subjs, columns=['S1-our', 'S2-our', 'S1-Ransac', 'S2-Ransac'])"
   ]
  },
  {
   "cell_type": "code",
   "execution_count": null,
   "id": "0b93c8cf",
   "metadata": {
    "ExecuteTime": {
     "end_time": "2022-11-23T14:23:49.195973Z",
     "start_time": "2022-11-23T14:23:48.889442Z"
    }
   },
   "outputs": [],
   "source": [
    "df.style.set_caption(\"Number of removed channels\")"
   ]
  },
  {
   "cell_type": "code",
   "execution_count": null,
   "id": "a7e866f5",
   "metadata": {
    "ExecuteTime": {
     "end_time": "2022-11-23T14:55:50.260686Z",
     "start_time": "2022-11-23T14:55:50.248759Z"
    }
   },
   "outputs": [],
   "source": [
    "rej_s1 = np.where(np.array(rej_mine1)>5)[0]\n",
    "rej_s1 = [subjs[i] for i in rej_s1]\n",
    "\n",
    "rej_s2 = np.where(np.array(rej_mine2)>5)[0]\n",
    "rej_s2 = [subjs[i] for i in rej_s2]\n",
    "\n",
    "rejected = list(set(rej_s1+rej_s2))\n",
    "rejected.sort()\n",
    "print('subject rejected:', rejected)\n",
    "print('N subjects:', len(subjs))\n",
    "print('N rejected:', len(rejected))\n",
    "print('N remained:', len(subjs)-len(rejected))"
   ]
  },
  {
   "cell_type": "code",
   "execution_count": null,
   "id": "e1e9263b",
   "metadata": {
    "ExecuteTime": {
     "end_time": "2022-11-23T14:59:07.972431Z",
     "start_time": "2022-11-23T14:59:07.961605Z"
    }
   },
   "outputs": [],
   "source": [
    "rem_s1 = np.where(np.array(rej_mine1)<6)[0]\n",
    "rem_s1 = [10-rej_mine1[i] for i in rem_s1]\n",
    "\n",
    "rem_s2 = np.where(np.array(rej_mine2)<6)[0]\n",
    "rem_s2 = [10-rej_mine2[i] for i in rem_s2]\n",
    "\n",
    "print('Clean channels S1:', np.mean(rem_s1), '+-', np.std(rem_s1))\n",
    "print('Clean channels S2:', np.mean(rem_s2), '+-', np.std(rem_s2))"
   ]
  },
  {
   "cell_type": "code",
   "execution_count": null,
   "id": "18032d13",
   "metadata": {
    "ExecuteTime": {
     "end_time": "2023-03-13T11:15:30.235078Z",
     "start_time": "2023-03-13T11:15:30.071732Z"
    }
   },
   "outputs": [],
   "source": [
    "import matplotlib.font_manager\n",
    "matplotlib.font_manager.findSystemFonts(fontpaths=None, fontext='ttf')"
   ]
  },
  {
   "attachments": {},
   "cell_type": "markdown",
   "id": "9ebe9629",
   "metadata": {},
   "source": [
    "# Plot for figure - supplementary material"
   ]
  },
  {
   "cell_type": "code",
   "execution_count": null,
   "id": "6fb74434",
   "metadata": {
    "ExecuteTime": {
     "end_time": "2023-03-16T16:55:03.205481Z",
     "start_time": "2023-03-16T16:55:03.151365Z"
    }
   },
   "outputs": [],
   "source": [
    "subj = subjs[0]\n",
    "\n",
    "s1 = loadmat(f'NewbornEEGData/BB{subj}_Filtered (1-100)/Silence (500)/BB{subj} silence1 (continuous).mat')\n",
    "s2 = loadmat(f'NewbornEEGData/BB{subj}_Filtered (1-100)/Silence (500)/BB{subj} silence2 (continuous).mat')"
   ]
  },
  {
   "cell_type": "code",
   "execution_count": null,
   "id": "b74cd387",
   "metadata": {
    "ExecuteTime": {
     "end_time": "2023-03-16T16:55:25.107399Z",
     "start_time": "2023-03-16T16:55:25.095704Z"
    }
   },
   "outputs": [],
   "source": [
    "def plot_eeg(data, ch_names, title, fmin=0, fmax=100, scale=0.9, save=True):\n",
    "    times = np.arange(data.shape[1]) / sfreq\n",
    "    \n",
    "    fig = plt.figure(figsize=(12,8))\n",
    "    ax = plt.subplot(1,1,1)\n",
    "    \n",
    "    for i, tmp in enumerate(data):\n",
    "        ax.plot(times, tmp*scale+np.max(data)*i, c='k')\n",
    "    ax.set_xlim(-times[1]*10,times[-1])\n",
    "    ax.set_yticks([np.max(data)*i for i in range(len(ch_names))])\n",
    "    ax.set_yticklabels(ch_names, size=26)\n",
    "    ax.set_title(title)\n",
    "    \n",
    "    ax.spines['right'].set_visible(False)\n",
    "    ax.spines['top'].set_visible(False)\n",
    "    ax.spines['left'].set_visible(False)\n",
    "    ax.spines['bottom'].set_visible(False)\n",
    "    \n",
    "    ax.axes.get_xaxis().set_visible(False)\n",
    "    \n",
    "    if save:\n",
    "        plt.savefig('prep.svg', bbox_inches='tight', transparent=True)\n",
    "    \n",
    "    plt.show()"
   ]
  },
  {
   "cell_type": "code",
   "execution_count": null,
   "id": "74693859",
   "metadata": {
    "ExecuteTime": {
     "end_time": "2023-03-16T16:55:25.673650Z",
     "start_time": "2023-03-16T16:55:25.481740Z"
    },
    "scrolled": false
   },
   "outputs": [],
   "source": [
    "tmin = 1000\n",
    "T = 1500\n",
    "tmax = tmin+T\n",
    "\n",
    "plot_eeg(s2['eeg_rest'][:,tmin:tmax], ch_names, None, scale=0.8)"
   ]
  },
  {
   "cell_type": "code",
   "execution_count": null,
   "id": "86eb7049",
   "metadata": {
    "ExecuteTime": {
     "end_time": "2023-03-16T14:07:02.743070Z",
     "start_time": "2023-03-16T14:07:02.689602Z"
    }
   },
   "outputs": [],
   "source": [
    "subj = 13\n",
    "\n",
    "s1 = loadmat(f'NewbornEEGData/BB{subj}_Filtered (1-100)/Silence (500)/BB{subj} silence1 (continuous).mat')\n",
    "s2 = loadmat(f'NewbornEEGData/BB{subj}_Filtered (1-100)/Silence (500)/BB{subj} silence2 (continuous).mat')"
   ]
  },
  {
   "cell_type": "code",
   "execution_count": null,
   "id": "b33b26db",
   "metadata": {
    "ExecuteTime": {
     "end_time": "2023-03-16T15:09:36.057761Z",
     "start_time": "2023-03-16T15:09:35.928630Z"
    }
   },
   "outputs": [],
   "source": [
    "ch = 1\n",
    "\n",
    "tmin = 74000\n",
    "T = 11500\n",
    "tmax = tmin+T\n",
    "\n",
    "tpeak_on = tmin+3150\n",
    "tpeak_off = tpeak_on+5300\n",
    "\n",
    "plt.figure(figsize=(8,3))\n",
    "ax = plt.subplot(1,1,1)\n",
    "\n",
    "plt.plot(np.arange(tpeak_off,tmax)-tmin,s2['eeg_rest'][ch,tpeak_off:tmax], c='k', lw=0.8)\n",
    "plt.plot(s2['eeg_rest'][ch,tmin:tpeak_on], c='k', lw=0.8)\n",
    "plt.plot(np.arange(tpeak_on,tpeak_off)-tmin, s2['eeg_rest'][ch,tpeak_on:tpeak_off], color=\"firebrick\", lw=0.8)\n",
    "\n",
    "ax.axes.get_xaxis().set_visible(False)\n",
    "ax.spines['right'].set_visible(False)\n",
    "ax.spines['top'].set_visible(False)\n",
    "ax.spines['bottom'].set_visible(False)\n",
    "\n",
    "plt.ylim(-200, 200)\n",
    "plt.yticks([-200, -100, 0, 100, 200], size=18)\n",
    "\n",
    "plt.text(-900,240,r'$\\mu$V', size=18)\n",
    "\n",
    "plt.savefig('peak.svg', bbox_inches='tight', transparent=True)\n",
    "plt.show()"
   ]
  },
  {
   "cell_type": "code",
   "execution_count": null,
   "id": "e3fbc06b",
   "metadata": {},
   "outputs": [],
   "source": []
  },
  {
   "cell_type": "code",
   "execution_count": null,
   "id": "ec952617",
   "metadata": {
    "ExecuteTime": {
     "end_time": "2023-03-16T15:13:57.598275Z",
     "start_time": "2023-03-16T15:13:57.543523Z"
    }
   },
   "outputs": [],
   "source": [
    "subj = 13\n",
    "\n",
    "s1 = loadmat(f'NewbornEEGData/BB{subj}_Filtered (1-100)/Silence (500)/BB{subj} silence1 (continuous).mat')\n",
    "s2 = loadmat(f'NewbornEEGData/BB{subj}_Filtered (1-100)/Silence (500)/BB{subj} silence2 (continuous).mat')"
   ]
  },
  {
   "cell_type": "code",
   "execution_count": null,
   "id": "452b35f5",
   "metadata": {
    "ExecuteTime": {
     "end_time": "2023-03-16T16:45:40.300631Z",
     "start_time": "2023-03-16T16:45:40.280691Z"
    }
   },
   "outputs": [],
   "source": [
    "def adjust_spines(ax, spines):\n",
    "    for loc, spine in ax.spines.items():\n",
    "        if loc in spines:\n",
    "            spine.set_position(('outward', 10))  # outward by 10 points\n",
    "        else:\n",
    "            spine.set_color('none')  # don't draw spine\n",
    "\n",
    "    # turn off ticks where there is no spine\n",
    "    if 'left' in spines:\n",
    "        ax.yaxis.set_ticks_position('left')\n",
    "    else:\n",
    "        # no yaxis ticks\n",
    "        ax.yaxis.set_ticks([])\n",
    "\n",
    "    if 'bottom' in spines:\n",
    "        ax.xaxis.set_ticks_position('bottom')\n",
    "    else:\n",
    "        # no xaxis ticks\n",
    "        ax.xaxis.set_ticks([])\n",
    "\n",
    "def plot_ps(data, ch_names, title, fmin=0, fmax=100, ch_bad=None):\n",
    "    times = np.arange(data.shape[1]) / sfreq\n",
    "    \n",
    "    fig = plt.figure(figsize=(4.5,3))\n",
    "    ax3 = plt.subplot(1,1,1)\n",
    "    \n",
    "    info = mne.create_info(ch_names = list(ch_names), ch_types = 'eeg', sfreq = sfreq)\n",
    "    psds, freqs = mne.time_frequency.psd_array_welch(data/1e6, sfreq=sfreq, fmin=fmin, fmax=fmax, n_fft=2048, n_overlap=1024//2, verbose=False)\n",
    "    psds = np.log10(psds)\n",
    "    ax3.plot(freqs, psds.T, c='k', alpha=0.3, lw=2)\n",
    "    \n",
    "    if ch_bad is not None:\n",
    "        ax3.plot(freqs, psds[ch_bad], c=\"firebrick\", lw=3)\n",
    "        \n",
    "    ax3.plot(freqs, psds.mean(axis=0), c='black', label='avg', lw=3)\n",
    "    ax3.set_xlim(freqs[0],freqs[-1])\n",
    "    plt.legend(fontsize=16)\n",
    "    \n",
    "    ax3.spines['right'].set_visible(False)\n",
    "    ax3.spines['top'].set_visible(False)\n",
    "    adjust_spines(ax3, ['left', 'bottom'])\n",
    "    \n",
    "    plt.ylim(-13, -9)\n",
    "    plt.yticks([-13, -11, -9], size=18)\n",
    "    plt.xticks([0, 20, 40], size=18)\n",
    "    \n",
    "    plt.text(-3,-8.7, 'dB', size=18)\n",
    "    plt.text(42,-13.3, 'Hz', size=18)\n",
    "    \n",
    "    plt.savefig('ps.svg', bbox_inches='tight', transparent=True)\n",
    "    plt.show()"
   ]
  },
  {
   "cell_type": "code",
   "execution_count": null,
   "id": "94e595f9",
   "metadata": {
    "ExecuteTime": {
     "end_time": "2023-03-16T16:45:40.789789Z",
     "start_time": "2023-03-16T16:45:40.591600Z"
    }
   },
   "outputs": [],
   "source": [
    "plot_ps(s1['eeg_rest'], ch_names, None, fmin=0.47, fmax=40, ch_bad=3)"
   ]
  }
 ],
 "metadata": {
  "kernelspec": {
   "display_name": "Python 3 (ipykernel)",
   "language": "python",
   "name": "python3"
  },
  "language_info": {
   "codemirror_mode": {
    "name": "ipython",
    "version": 3
   },
   "file_extension": ".py",
   "mimetype": "text/x-python",
   "name": "python",
   "nbconvert_exporter": "python",
   "pygments_lexer": "ipython3",
   "version": "3.8.0"
  },
  "varInspector": {
   "cols": {
    "lenName": 16,
    "lenType": 16,
    "lenVar": 40
   },
   "kernels_config": {
    "python": {
     "delete_cmd_postfix": "",
     "delete_cmd_prefix": "del ",
     "library": "var_list.py",
     "varRefreshCmd": "print(var_dic_list())"
    },
    "r": {
     "delete_cmd_postfix": ") ",
     "delete_cmd_prefix": "rm(",
     "library": "var_list.r",
     "varRefreshCmd": "cat(var_dic_list()) "
    }
   },
   "types_to_exclude": [
    "module",
    "function",
    "builtin_function_or_method",
    "instance",
    "_Feature"
   ],
   "window_display": false
  }
 },
 "nbformat": 4,
 "nbformat_minor": 5
}
