{
 "cells": [
  {
   "cell_type": "code",
   "execution_count": null,
   "id": "3f860489",
   "metadata": {},
   "outputs": [],
   "source": [
    "%load_ext rpy2.ipython"
   ]
  },
  {
   "cell_type": "code",
   "execution_count": null,
   "id": "6e8edf20",
   "metadata": {},
   "outputs": [],
   "source": [
    "%load_ext autoreload\n",
    "%autoreload 2"
   ]
  },
  {
   "cell_type": "code",
   "execution_count": null,
   "id": "26b6af8e",
   "metadata": {},
   "outputs": [],
   "source": [
    "import os\n",
    "import seaborn as sns\n",
    "import pandas as pd\n",
    "import numpy as np\n",
    "from scipy import signal\n",
    "import matplotlib.pyplot as plt\n",
    "import scipy.signal as ss\n",
    "import scipy.io\n",
    "\n",
    "import sys\n",
    "sys.path.insert(1, '../modules/')\n",
    "from cleanedfunctions import *\n",
    "plt.style.use('default')\n",
    "import statsmodels.api as sm\n",
    "import os"
   ]
  },
  {
   "cell_type": "code",
   "execution_count": null,
   "id": "a3813314",
   "metadata": {
    "scrolled": true
   },
   "outputs": [],
   "source": [
    "### Utils\n",
    "cd \"dfa in different bands\"\n",
    "cd \"newdata\"\n",
    "\n",
    "final = [5.0, 6.0, 9.0, 11.0, 12.0, 14.0, 16.0, 17.0, 18.0, 19.0, 22.0, 23.0, 27.0, 30.0, 33.0, 35.0, 37.0, 40.0, 41.0, 45.0, 46.0, 47.0, 49.0, 52.0, 53.0, 56.0, 58.0, 62.0, 64.0, 66.0, 67.0, 68.0, 71.0]\n",
    "\n",
    "def mapping(sub, final):\n",
    "    return final.index(sub) + 1\n",
    "\n",
    "cleans = []\n",
    "bands = [[4,8],[8,13],[14,30],[31,60]]\n",
    "xminn = np.log2( (3/np.array(bands)[:,0])*500)\n",
    "xminn[-1] = xminn[-1] + 2"
   ]
  },
  {
   "cell_type": "code",
   "execution_count": null,
   "id": "dafc70bc",
   "metadata": {},
   "outputs": [],
   "source": [
    "### Load data\n",
    "for band in range(4):\n",
    "    o = 0\n",
    "    clean = pd.DataFrame(columns = ['Silence', 'DFAexp', 'sub_id', 'ch' ],  index = np.arange(0,588,1), dtype = 'float')\n",
    "    for file in os.listdir():\n",
    "        dfa_sil_params = np.load(file)[band]\n",
    "        ntrial = dfa_sil_params.shape[0]\n",
    "        dfa_sil_params = np.array(dfa_sil_params).reshape(ntrial,3,-1)\n",
    "        dfa_sil_subjects = [[] for r in range(ntrial)]\n",
    "        for r in range(ntrial):\n",
    "            c = plot_fluct(dfa_sil_params[r,0],dfa_sil_params[r,1],dfa_sil_params[r,2],xmin = xminn[band], xmax = 13.4)\n",
    "            clean.iloc[o][\"DFAexp\"] = float(c[0])\n",
    "            if \".\" in file[4:6]:\n",
    "                f = file[4]\n",
    "            else:\n",
    "                f = file[4:6]\n",
    "            clean.iloc[o][\"sub_id\"]  = mapping(int(f), final)\n",
    "            clean.iloc[o][\"ch\"] = int(r)\n",
    "            o+=1\n",
    "    clean[\"Silence\"] = [\"1\" for r in range(283) ]+ [\"2\" for r in range(305)]\n",
    "    cleans.append(clean)  "
   ]
  },
  {
   "attachments": {},
   "cell_type": "markdown",
   "id": "fc6b003c",
   "metadata": {},
   "source": [
    "# Analysis - whole dataset"
   ]
  },
  {
   "cell_type": "code",
   "execution_count": null,
   "id": "2eb3e153",
   "metadata": {},
   "outputs": [],
   "source": [
    "band = 0\n",
    "\n",
    "new = pd.DataFrame(cleans[band])\n",
    "\n",
    "df = new\n",
    "nsub = 33\n",
    "df1 = (df[df[\"Silence\"] == \"1\"][[\"DFAexp\", \"sub_id\", \"ch\"]])\n",
    "mean1 = np.mean(df1[\"DFAexp\"])\n",
    "np.std(df1[\"DFAexp\"])\n",
    "print(mean1, np.std(df1[\"DFAexp\"]))\n",
    "\n",
    "\n",
    "df1 = (df[df[\"Silence\"] == \"2\"][[\"DFAexp\", \"sub_id\", \"ch\"]])\n",
    "mean1 = np.mean(df1[\"DFAexp\"])\n",
    "np.std(df1[\"DFAexp\"])\n",
    "print(mean1, np.std(df1[\"DFAexp\"]))"
   ]
  },
  {
   "cell_type": "code",
   "execution_count": null,
   "id": "f2272717",
   "metadata": {},
   "outputs": [],
   "source": [
    "%%R -i new\n",
    "\n",
    "library(lmerTest)\n",
    "m<-lmer('DFAexp ~ Silence + (1 + Silence|sub_id)', data = new,REML = FALSE)\n",
    "print(summary(m))"
   ]
  },
  {
   "cell_type": "code",
   "execution_count": null,
   "id": "5a188c6c",
   "metadata": {},
   "outputs": [],
   "source": [
    "%%R -i new\n",
    "## all random\n",
    " \n",
    "library(lmerTest)\n",
    "val <- FALSE\n",
    "m<-lmer('DFAexp ~ Silence + (1 + Silence|sub_id)', data=new, REML = val)\n",
    "print(AIC(m))\n",
    "\n",
    "#library(lme4)\n",
    "m2<-lmer('DFAexp ~ (1 + Silence|sub_id)', data=new, REML = val)\n",
    "print(AIC(m2))\n",
    "print(anova(m2,m))"
   ]
  },
  {
   "cell_type": "code",
   "execution_count": null,
   "id": "26797df5",
   "metadata": {},
   "outputs": [],
   "source": [
    "### code to do it in python:\n",
    "import statsmodels.formula.api as smf\n",
    "md = smf.mixedlm(\"DFAexp ~ Silence\", new, groups=new[\"sub_id\"], re_formula=\"~Silence\")\n",
    "mdf = md.fit(method=[\"lbfgs\"])\n",
    "print(mdf.summary())"
   ]
  },
  {
   "cell_type": "code",
   "execution_count": null,
   "id": "cfc5be96",
   "metadata": {},
   "outputs": [],
   "source": [
    "prv = cleans[1]"
   ]
  },
  {
   "cell_type": "code",
   "execution_count": null,
   "id": "bd878ac2",
   "metadata": {},
   "outputs": [],
   "source": [
    "%%R -i prv\n",
    "## all random\n",
    "library(lmerTest)\n",
    "m<-lmer('DFAexp ~ Silence + (1 + Silence|sub_id)', data = prv, REML = FALSE)\n",
    "\n",
    "print(summary(m)$coefficients[1,1])\n",
    "print(summary(m)$coefficients[1,2])\n",
    "print(summary(m)$coefficients[2,1])\n",
    "print(summary(m)$coefficients[2,5])"
   ]
  },
  {
   "cell_type": "code",
   "execution_count": null,
   "id": "985fa789",
   "metadata": {},
   "outputs": [],
   "source": [
    "%%R -i new\n",
    "## all random\n",
    " \n",
    "library(lmerTest)\n",
    "val <- FALSE\n",
    "m<-lmer('DFAexp ~ Silence + (1 + Silence|sub_id)', data=new, REML = val)\n",
    "print(AIC(m))\n",
    "\n",
    "#library(lme4)\n",
    "m2<-lmer('DFAexp ~ (1 + Silence|sub_id)', data=new, REML = val)\n",
    "print(AIC(m2))\n",
    "print(anova(m2,m))"
   ]
  },
  {
   "cell_type": "code",
   "execution_count": null,
   "id": "4de9d3a3",
   "metadata": {},
   "outputs": [],
   "source": [
    "band = 3\n",
    "\n",
    "new = pd.DataFrame(cleans[band])\n",
    "\n",
    "df = new\n",
    "df1 = (df[df[\"Silence\"] == \"1\"][[\"DFAexp\", \"sub_id\", \"ch\"]])\n",
    "mean1 = np.mean(df1[\"DFAexp\"])\n",
    "np.std(df1[\"DFAexp\"])\n",
    "print(mean1, np.std(df1[\"DFAexp\"]))\n",
    "\n",
    "\n",
    "df1 = (df[df[\"Silence\"] == \"2\"][[\"DFAexp\", \"sub_id\", \"ch\"]])\n",
    "mean1 = np.mean(df1[\"DFAexp\"])\n",
    "np.std(df1[\"DFAexp\"])\n",
    "print(mean1, np.std(df1[\"DFAexp\"]))"
   ]
  },
  {
   "cell_type": "code",
   "execution_count": null,
   "id": "292a135b",
   "metadata": {},
   "outputs": [],
   "source": [
    "%%R -i new\n",
    "## all random\n",
    "library(lmerTest)\n",
    "m<-lmer('DFAexp ~ Silence + (1 + Silence|sub_id)', data = new,REML = FALSE)\n",
    "print(summary(m)$coefficients[1,1])\n",
    "print(summary(m)$coefficients[1,2])\n",
    "print(summary(m)$coefficients[2,1])\n",
    "print(summary(m)$coefficients[2,5])\n"
   ]
  },
  {
   "cell_type": "code",
   "execution_count": null,
   "id": "4bbb5b6a",
   "metadata": {
    "scrolled": true
   },
   "outputs": [],
   "source": [
    "%%R -i new\n",
    "## all random\n",
    " \n",
    "library(lmerTest)\n",
    "val <- FALSE\n",
    "m<-lmer('DFAexp ~ Silence + (1 + Silence|sub_id)', data=new, REML = val)\n",
    "print(AIC(m))\n",
    "\n",
    "#library(lme4)\n",
    "m2<-lmer('DFAexp ~ (1 + Silence|sub_id)', data=new, REML = val)\n",
    "print(AIC(m2))\n",
    "print(anova(m2,m))"
   ]
  },
  {
   "attachments": {},
   "cell_type": "markdown",
   "id": "f821e373",
   "metadata": {},
   "source": [
    "## Different order of the languages"
   ]
  },
  {
   "cell_type": "code",
   "execution_count": null,
   "id": "0288e738",
   "metadata": {},
   "outputs": [],
   "source": [
    "### ORDER OF THE LANGUAGES\n",
    "order = pd.read_excel('../../../../../Downloads/ordine lingue.xlsx')#1 en, 2 fr, 3 sp"
   ]
  },
  {
   "cell_type": "code",
   "execution_count": null,
   "id": "83feff8a",
   "metadata": {},
   "outputs": [],
   "source": [
    "subjects = order[order[\"last language\"]==3][\"subject\"].values\n",
    "subjects"
   ]
  },
  {
   "cell_type": "code",
   "execution_count": null,
   "id": "df7e7372",
   "metadata": {},
   "outputs": [],
   "source": [
    "subject_french =[]\n",
    "subjects = order[order[\"last language\"]==2][\"subject\"].values\n",
    "\n",
    "for ll in range(len(subjects)):\n",
    "    if subjects[ll] in final:\n",
    "        subject_french.append(mapping(int(subjects[ll]), final))\n",
    "\n",
    "subject_en =[]\n",
    "subjects = order[order[\"last language\"]==1][\"subject\"].values\n",
    "\n",
    "for ll in range(len(subjects)):\n",
    "    if subjects[ll] in final:\n",
    "        subject_en.append(mapping(int(subjects[ll]), final))\n",
    "        \n",
    "subjects = order[order[\"last language\"]==3][\"subject\"].values\n",
    "subject_span = []\n",
    "for ll in range(len(subjects)):\n",
    "    if subjects[ll] in final:\n",
    "        subject_span.append(mapping(int(subjects[ll]), final))"
   ]
  },
  {
   "cell_type": "code",
   "execution_count": null,
   "id": "cf494cf1",
   "metadata": {},
   "outputs": [],
   "source": [
    "np.array(list(map(len, [subject_french, subject_en, subject_span]))).sum()"
   ]
  },
  {
   "cell_type": "code",
   "execution_count": null,
   "id": "dced3ca2",
   "metadata": {},
   "outputs": [],
   "source": [
    "i = 0\n",
    "for r in new[\"sub_id\"]:\n",
    "    if r in subject_french:\n",
    "        i+= 1\n",
    "print(i)"
   ]
  },
  {
   "cell_type": "code",
   "execution_count": null,
   "id": "a04fb9dc",
   "metadata": {},
   "outputs": [],
   "source": [
    "cleans = []\n",
    "bands = [[4,8],[8,13],[14,30],[31,60]]\n",
    "xminn = np.log2( (3/np.array(bands)[:,0])*500)\n",
    "xminn[-1] = xminn[-1] + 2\n",
    "for band in range(4):\n",
    "    o = 0\n",
    "    clean = pd.DataFrame(columns = ['Silence', 'DFAexp', 'sub_id', 'lingua' ],  index = np.arange(0,588,1),dtype = float)\n",
    "    for file in os.listdir():\n",
    "        dfa_sil_params = np.load(file)[band]\n",
    "        ntrial = dfa_sil_params.shape[0]\n",
    "        dfa_sil_params = np.array(dfa_sil_params).reshape(ntrial,3,-1)\n",
    "        dfa_sil_subjects = [[] for r in range(ntrial)]\n",
    "        for r in range(ntrial):\n",
    "            c = plot_fluct(dfa_sil_params[r,0],dfa_sil_params[r,1],dfa_sil_params[r,2],xmin = xminn[band], xmax = 13.4)\n",
    "            clean.iloc[o][\"DFAexp\"] = float(c[0])\n",
    "            if \".\" in file[4:6]:\n",
    "                f = file[4]\n",
    "            else:\n",
    "                f = file[4:6]\n",
    "            if mapping(int(f), final) in subject_french:\n",
    "                clean.iloc[o][\"lingua\"] = 1\n",
    "            elif mapping(int(f), final) in subject_en:\n",
    "                clean.iloc[o][\"lingua\"] = 2\n",
    "            elif mapping(int(f), final) in subject_span:\n",
    "                clean.iloc[o][\"lingua\"] = 3\n",
    "\n",
    "            clean.iloc[o][\"sub_id\"]  = mapping(int(f), final)\n",
    "            clean.iloc[o][\"ch\"] = int(r)\n",
    "            o+=1\n",
    "    clean[\"Silence\"] = [\"1\" for r in range(283) ]+ [\"2\" for r in range(305)]\n",
    "    cleans.append(clean) "
   ]
  },
  {
   "cell_type": "code",
   "execution_count": null,
   "id": "62754bf3",
   "metadata": {},
   "outputs": [],
   "source": [
    "new = cleans[0]"
   ]
  },
  {
   "cell_type": "code",
   "execution_count": null,
   "id": "0de0a60a",
   "metadata": {},
   "outputs": [],
   "source": [
    "df = new\n",
    "nsub = 33\n",
    "df1 = (df[df[\"Silence\"] == \"1\"][[\"DFAexp\", \"sub_id\", \"lingua\"]])\n",
    "mean1 = np.mean(df1[\"DFAexp\"])\n",
    "np.std(df1[\"DFAexp\"])\n",
    "print(mean1, np.std(df1[\"DFAexp\"]))\n",
    "\n",
    "\n",
    "df1 = (df[df[\"Silence\"] == \"2\"][[\"DFAexp\", \"sub_id\", \"lingua\"]])\n",
    "mean1 = np.mean(df1[\"DFAexp\"])\n",
    "np.std(df1[\"DFAexp\"])\n",
    "print(mean1, np.std(df1[\"DFAexp\"]))"
   ]
  },
  {
   "cell_type": "code",
   "execution_count": null,
   "id": "1f4416d5",
   "metadata": {},
   "outputs": [],
   "source": [
    "%%R -i new\n",
    "\n",
    "library(lmerTest)\n",
    "library(lme4)\n",
    "m<-lmer('DFAexp ~ Silence + (1 + Silence|sub_id) + lingua + lingua*Silence + (1 + lingua*Silence|sub_id) + (1 + lingua|sub_id)', data=new, )\n",
    "print(summary(m))"
   ]
  },
  {
   "cell_type": "code",
   "execution_count": null,
   "id": "11460479",
   "metadata": {},
   "outputs": [],
   "source": [
    "%%R -i new\n",
    "\n",
    "library(lmerTest)\n",
    "library(lme4)\n",
    "m<-lmer('DFAexp ~ Silence + (1 + Silence|sub_id)', data=new, REML = FALSE)\n",
    "print(summary(m))\n",
    "print(coef(summary(m))[1,1])\n",
    "print(coef(summary(m))[1,2])\n",
    "print(coef(summary(m))[\"Silence2\",\"Estimate\"])\n",
    "print(coef(summary(m))[\"Silence2\",\"Pr(>|t|)\"])"
   ]
  },
  {
   "cell_type": "code",
   "execution_count": null,
   "id": "4dc3dd37",
   "metadata": {},
   "outputs": [],
   "source": [
    "frenchs = []\n",
    "for g in range(len(cleans)):\n",
    "    french = pd.DataFrame(columns = [\"Silence\", \"DFAexp\", \"sub_id\", \"ch\"],index = np.arange(0,221,1), dtype = 'float')\n",
    "    new = cleans[g]\n",
    "    i = 0\n",
    "    for r in range(len(subject_french)):\n",
    "        v = new.loc[new[\"sub_id\"] == int(subject_french[r])]\n",
    "        for k in range(len(v[\"sub_id\"].values)):\n",
    "            french.iloc[i] = v.iloc[k]\n",
    "            i+= 1\n",
    "    \n",
    "    ## The lines below are just to rename the subject ID. not necessary\n",
    "    dd = french[\"sub_id\"].values.copy()\n",
    "    o = 0\n",
    "    for l in dd:\n",
    "        french[\"sub_id\"].iloc[o] = mapping(l,list(set(dd)))\n",
    "        o+=1\n",
    "    ##\n",
    "    frenchs.append(french)"
   ]
  },
  {
   "cell_type": "code",
   "execution_count": null,
   "id": "ded36db0",
   "metadata": {},
   "outputs": [],
   "source": [
    "engs = []\n",
    "\n",
    "for g in range(len(cleans)):\n",
    "\n",
    "    eng = pd.DataFrame(columns = [\"Silence\", \"DFAexp\", \"sub_id\", \"ch\"],index = np.arange(0,203,1), dtype = 'float')\n",
    "    new = cleans[g]\n",
    "    \n",
    "    i = 0\n",
    "    for r in range(len(subject_en)):\n",
    "        v = new.loc[new[\"sub_id\"] == int(subject_en[r])]\n",
    "        for k in range(len(v[\"sub_id\"].values)):\n",
    "            eng.iloc[i] = v.iloc[k]\n",
    "            i+= 1\n",
    "    ##\n",
    "    dd = eng[\"sub_id\"].values.copy()\n",
    "    o = 0\n",
    "    for l in dd:\n",
    "        eng[\"sub_id\"].iloc[o] = mapping(l,list(set(dd)))\n",
    "        o+=1\n",
    "    ##\n",
    "    engs.append(eng)"
   ]
  },
  {
   "cell_type": "code",
   "execution_count": null,
   "id": "c313b55b",
   "metadata": {},
   "outputs": [],
   "source": [
    "spans = []\n",
    "for g in range(len(cleans)):\n",
    "    span = pd.DataFrame(columns = [\"Silence\", \"DFAexp\", \"sub_id\", \"ch\"],index = np.arange(0,164,1), dtype = 'float')\n",
    "    new = cleans[g]\n",
    "    i = 0\n",
    "    for r in range(len(subject_span)):\n",
    "        v = new.loc[new[\"sub_id\"] == int(subject_span[r])]\n",
    "        for k in range(len(v[\"sub_id\"].values)):\n",
    "            span.iloc[i] = v.iloc[k]\n",
    "            i+= 1\n",
    "    ##\n",
    "    o = 0\n",
    "    dd = span[\"sub_id\"].values.copy()\n",
    "    for l in dd:\n",
    "        span[\"sub_id\"].iloc[o] = mapping(l,list(set(dd)))\n",
    "        \n",
    "        o+=1\n",
    "    ##\n",
    "    spans.append(span)"
   ]
  },
  {
   "attachments": {},
   "cell_type": "markdown",
   "id": "71253d11",
   "metadata": {},
   "source": [
    "## Theta band"
   ]
  },
  {
   "cell_type": "code",
   "execution_count": null,
   "id": "d5a60948",
   "metadata": {},
   "outputs": [],
   "source": [
    "new = frenchs[0]"
   ]
  },
  {
   "cell_type": "code",
   "execution_count": null,
   "id": "bcf33ab3",
   "metadata": {},
   "outputs": [],
   "source": [
    "df = new\n",
    "nsub = 33\n",
    "df1 = (df[df[\"Silence\"] == \"1\"][[\"DFAexp\", \"sub_id\", \"ch\"]])\n",
    "mean1 = np.mean(df1[\"DFAexp\"])\n",
    "np.std(df1[\"DFAexp\"])\n",
    "print(mean1, np.std(df1[\"DFAexp\"]))\n",
    "\n",
    "\n",
    "df1 = (df[df[\"Silence\"] == \"2\"][[\"DFAexp\", \"sub_id\", \"ch\"]])\n",
    "mean1 = np.mean(df1[\"DFAexp\"])\n",
    "np.std(df1[\"DFAexp\"])\n",
    "print(mean1, np.std(df1[\"DFAexp\"]))"
   ]
  },
  {
   "cell_type": "code",
   "execution_count": null,
   "id": "6387b18a",
   "metadata": {},
   "outputs": [],
   "source": [
    "%%R -i new\n",
    "\n",
    "library(lmerTest)\n",
    "library(lme4)\n",
    "m<-lmer('DFAexp ~ Silence + (1 + Silence|sub_id)', data=new, REML = FALSE)\n",
    "print(summary(m))\n",
    "print(coef(summary(m))[1,1])\n",
    "print(coef(summary(m))[1,2])\n",
    "print(coef(summary(m))[\"Silence2\",\"Estimate\"])\n",
    "print(coef(summary(m))[\"Silence2\",\"Pr(>|t|)\"])"
   ]
  },
  {
   "cell_type": "code",
   "execution_count": null,
   "id": "93bb2cdf",
   "metadata": {},
   "outputs": [],
   "source": [
    "%%R -i new\n",
    "## all random\n",
    " \n",
    "library(lmerTest)\n",
    "val <- FALSE\n",
    "m<-lmer('DFAexp ~ Silence + (1 + Silence|sub_id)', data=new, REML = val)\n",
    "print(AIC(m))\n",
    "\n",
    "#library(lme4)\n",
    "m2<-lmer('DFAexp ~ (1 + Silence|sub_id)', data=new, REML = val)\n",
    "print(AIC(m2))\n",
    "print(anova(m2,m))"
   ]
  },
  {
   "cell_type": "code",
   "execution_count": null,
   "id": "ddccba28",
   "metadata": {},
   "outputs": [],
   "source": [
    "new = spans[0]"
   ]
  },
  {
   "cell_type": "code",
   "execution_count": null,
   "id": "b7e370e9",
   "metadata": {},
   "outputs": [],
   "source": [
    "%%R -i new\n",
    "\n",
    "library(lmerTest)\n",
    "library(lme4)\n",
    "m<-lmer('DFAexp ~ Silence + (1 + Silence|sub_id)', data=new, REML = FALSE)\n",
    "print(summary(m))\n",
    "print(coef(summary(m))[1,1])\n",
    "print(coef(summary(m))[1,2])\n",
    "print(coef(summary(m))[\"Silence2\",\"Estimate\"])\n",
    "print(coef(summary(m))[\"Silence2\",\"Pr(>|t|)\"])"
   ]
  },
  {
   "cell_type": "code",
   "execution_count": null,
   "id": "52b75490",
   "metadata": {},
   "outputs": [],
   "source": [
    "%%R -i new\n",
    "## all random\n",
    " \n",
    "library(lmerTest)\n",
    "val <- FALSE\n",
    "m<-lmer('DFAexp ~ Silence + (1 + Silence|sub_id)', data=new, REML = val)\n",
    "print(AIC(m))\n",
    "\n",
    "#library(lme4)\n",
    "m2<-lmer('DFAexp ~ (1 + Silence|sub_id)', data=new, REML = val)\n",
    "print(AIC(m2))\n",
    "print(anova(m2,m))"
   ]
  },
  {
   "cell_type": "code",
   "execution_count": null,
   "id": "540ccc74",
   "metadata": {},
   "outputs": [],
   "source": [
    "new = engs[0]"
   ]
  },
  {
   "cell_type": "code",
   "execution_count": null,
   "id": "617a6e8d",
   "metadata": {},
   "outputs": [],
   "source": [
    "%%R -i new\n",
    "\n",
    "library(lmerTest)\n",
    "library(lme4)\n",
    "m<-lmer('DFAexp ~ Silence + (1 + Silence|sub_id)', data=new, REML = FALSE)\n",
    "print(summary(m))\n",
    "print(coef(summary(m))[1,1])\n",
    "print(coef(summary(m))[1,2])\n",
    "print(coef(summary(m))[\"Silence2\",\"Estimate\"])\n",
    "print(coef(summary(m))[\"Silence2\",\"Pr(>|t|)\"])"
   ]
  },
  {
   "cell_type": "code",
   "execution_count": null,
   "id": "3c3a8abb",
   "metadata": {},
   "outputs": [],
   "source": [
    "%%R -i new\n",
    "## all random\n",
    " \n",
    "library(lmerTest)\n",
    "val <- FALSE\n",
    "m<-lmer('DFAexp ~ Silence + (1 + Silence|sub_id)', data=new, REML = val)\n",
    "print(AIC(m))\n",
    "\n",
    "#library(lme4)\n",
    "m2<-lmer('DFAexp ~ (1 + Silence|sub_id)', data=new, REML = val)\n",
    "print(AIC(m2))\n",
    "print(anova(m2,m))"
   ]
  },
  {
   "attachments": {},
   "cell_type": "markdown",
   "id": "20b91ed3",
   "metadata": {},
   "source": [
    "## Gamma Band"
   ]
  },
  {
   "cell_type": "code",
   "execution_count": null,
   "id": "bc827258",
   "metadata": {},
   "outputs": [],
   "source": [
    "band = 3\n",
    "new = frenchs[band]"
   ]
  },
  {
   "cell_type": "code",
   "execution_count": null,
   "id": "bdfa6448",
   "metadata": {},
   "outputs": [],
   "source": [
    "%%R -i new\n",
    "\n",
    "library(lmerTest)\n",
    "library(lme4)\n",
    "m<-lmer('DFAexp ~ Silence + (1 + Silence|sub_id)', data=new, REML = FALSE)\n",
    "print(summary(m))\n",
    "print(coef(summary(m))[1,1])\n",
    "print(coef(summary(m))[1,2])\n",
    "print(coef(summary(m))[\"Silence2\",\"Estimate\"])\n",
    "print(coef(summary(m))[\"Silence2\",\"Pr(>|t|)\"])"
   ]
  },
  {
   "cell_type": "code",
   "execution_count": null,
   "id": "17bf3a61",
   "metadata": {},
   "outputs": [],
   "source": [
    "%%R -i new\n",
    "## all random\n",
    " \n",
    "library(lmerTest)\n",
    "val <- FALSE\n",
    "m<-lmer('DFAexp ~ Silence + (1 + Silence|sub_id)', data=new, REML = val)\n",
    "print(AIC(m))\n",
    "\n",
    "#library(lme4)\n",
    "m2<-lmer('DFAexp ~ (1 + Silence|sub_id)', data=new, REML = val)\n",
    "print(AIC(m2))\n",
    "print(anova(m2,m))"
   ]
  },
  {
   "cell_type": "code",
   "execution_count": null,
   "id": "87e761d8",
   "metadata": {},
   "outputs": [],
   "source": [
    "new = spans[band]"
   ]
  },
  {
   "cell_type": "code",
   "execution_count": null,
   "id": "ac49c9d9",
   "metadata": {},
   "outputs": [],
   "source": [
    "df = new\n",
    "nsub = 33\n",
    "df1 = (df[df[\"Silence\"] == \"1\"][[\"DFAexp\", \"sub_id\", \"ch\"]])\n",
    "mean1 = np.mean(df1[\"DFAexp\"])\n",
    "np.std(df1[\"DFAexp\"])\n",
    "print(mean1, np.std(df1[\"DFAexp\"]))\n",
    "\n",
    "\n",
    "df1 = (df[df[\"Silence\"] == \"2\"][[\"DFAexp\", \"sub_id\", \"ch\"]])\n",
    "mean1 = np.mean(df1[\"DFAexp\"])\n",
    "np.std(df1[\"DFAexp\"])\n",
    "print(mean1, np.std(df1[\"DFAexp\"]))"
   ]
  },
  {
   "cell_type": "code",
   "execution_count": null,
   "id": "c1f1cae7",
   "metadata": {},
   "outputs": [],
   "source": [
    "%%R -i new\n",
    "\n",
    "library(lmerTest)\n",
    "library(lme4)\n",
    "m<-lmer('DFAexp ~ Silence + (1 + Silence|sub_id)', data=new, REML = FALSE)\n",
    "print(summary(m))\n",
    "print(coef(summary(m))[1,1])\n",
    "print(coef(summary(m))[1,2])\n",
    "print(coef(summary(m))[\"Silence2\",\"Estimate\"])\n",
    "print(coef(summary(m))[\"Silence2\",\"Pr(>|t|)\"])"
   ]
  },
  {
   "cell_type": "code",
   "execution_count": null,
   "id": "80cbd529",
   "metadata": {},
   "outputs": [],
   "source": [
    "%%R -i new\n",
    "## all random\n",
    " \n",
    "library(lmerTest)\n",
    "val <- FALSE\n",
    "m<-lmer('DFAexp ~ Silence + (1 + Silence|sub_id)', data=new, REML = val)\n",
    "print(AIC(m))\n",
    "\n",
    "#library(lme4)\n",
    "m2<-lmer('DFAexp ~ (1 + Silence|sub_id)', data=new, REML = val)\n",
    "print(AIC(m2))\n",
    "print(anova(m2,m))"
   ]
  },
  {
   "cell_type": "code",
   "execution_count": null,
   "id": "006f1fc6",
   "metadata": {},
   "outputs": [],
   "source": [
    "new = engs[band]"
   ]
  },
  {
   "cell_type": "code",
   "execution_count": null,
   "id": "578e1f8b",
   "metadata": {},
   "outputs": [],
   "source": [
    "df = new\n",
    "nsub = 33\n",
    "df1 = (df[df[\"Silence\"] == \"1\"][[\"DFAexp\", \"sub_id\", \"ch\"]])\n",
    "mean1 = np.mean(df1[\"DFAexp\"])\n",
    "np.std(df1[\"DFAexp\"])\n",
    "print(mean1, np.std(df1[\"DFAexp\"]))\n",
    "\n",
    "\n",
    "df1 = (df[df[\"Silence\"] == \"2\"][[\"DFAexp\", \"sub_id\", \"ch\"]])\n",
    "mean1 = np.mean(df1[\"DFAexp\"])\n",
    "np.std(df1[\"DFAexp\"])\n",
    "print(mean1, np.std(df1[\"DFAexp\"]))"
   ]
  },
  {
   "cell_type": "code",
   "execution_count": null,
   "id": "2784042e",
   "metadata": {},
   "outputs": [],
   "source": [
    "%%R -i new\n",
    "\n",
    "library(lmerTest)\n",
    "library(lme4)\n",
    "m<-lmer('DFAexp ~ Silence + (1 + Silence|sub_id)', data=new, REML = FALSE)\n",
    "print(summary(m))\n",
    "print(coef(summary(m))[1,1])\n",
    "print(coef(summary(m))[1,2])\n",
    "print(coef(summary(m))[\"Silence2\",\"Estimate\"])\n",
    "print(coef(summary(m))[\"Silence2\",\"Pr(>|t|)\"])"
   ]
  },
  {
   "cell_type": "code",
   "execution_count": null,
   "id": "38467d07",
   "metadata": {},
   "outputs": [],
   "source": [
    "%%R -i new\n",
    "## all random\n",
    " \n",
    "library(lmerTest)\n",
    "val <- FALSE\n",
    "m<-lmer('DFAexp ~ Silence + (1 + Silence|sub_id)', data=new, REML = val)\n",
    "print(AIC(m))\n",
    "\n",
    "#library(lme4)\n",
    "m2<-lmer('DFAexp ~ (1 + Silence|sub_id)', data=new, REML = val)\n",
    "print(AIC(m2))\n",
    "print(anova(m2,m))"
   ]
  }
 ],
 "metadata": {
  "kernelspec": {
   "display_name": "Python 3 (ipykernel)",
   "language": "python",
   "name": "python3"
  },
  "language_info": {
   "codemirror_mode": {
    "name": "ipython",
    "version": 3
   },
   "file_extension": ".py",
   "mimetype": "text/x-python",
   "name": "python",
   "nbconvert_exporter": "python",
   "pygments_lexer": "ipython3",
   "version": "3.9.16"
  }
 },
 "nbformat": 4,
 "nbformat_minor": 5
}
